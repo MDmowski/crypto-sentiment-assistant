{
 "cells": [
  {
   "cell_type": "code",
   "execution_count": 17,
   "metadata": {},
   "outputs": [],
   "source": [
    "from requests import Request, Session\n",
    "from requests.exceptions import ConnectionError, Timeout, TooManyRedirects\n",
    "import json"
   ]
  },
  {
   "cell_type": "code",
   "execution_count": 9,
   "metadata": {
    "pycharm": {
     "name": "#%%\n"
    }
   },
   "outputs": [],
   "source": [
    "aggregation = 7\n",
    "limit = 100\n",
    "\n",
    "url = 'https://min-api.cryptocompare.com'\n",
    "req = f'/data/v2/histoday?fsym=BTC&aggregate={aggregation}&tsym=USD&limit={limit}'\n",
    "parameters = {\n",
    "    'extraParams': 'cryptoStockChart',\n",
    "}\n",
    "headers = {\n",
    "  'Accepts': 'application/json',\n",
    "  'Apikey': '7832da29e85039a8db58851b5863f9b559966e19e34dcc48fbbe9110d55a0f9d',\n",
    "}"
   ]
  },
  {
   "cell_type": "code",
   "execution_count": 10,
   "metadata": {
    "pycharm": {
     "name": "#%%\n"
    }
   },
   "outputs": [],
   "source": [
    "session = Session()\n",
    "session.headers.update(headers)"
   ]
  },
  {
   "cell_type": "code",
   "execution_count": 11,
   "metadata": {
    "pycharm": {
     "name": "#%%\n"
    }
   },
   "outputs": [
    {
     "name": "stdout",
     "output_type": "stream",
     "text": [
      "[{'time': 1556755200, 'high': 6032.25, 'low': 5387.29, 'open': 5389.54, 'volumefrom': 317138.27, 'volumeto': 1830921801.78, 'close': 5998.71, 'conversionType': 'direct', 'conversionSymbol': ''}, {'time': 1557360000, 'high': 8297.02, 'low': 5988.65, 'open': 5998.71, 'volumefrom': 754934.32, 'volumeto': 5507684239.91, 'close': 8183.83, 'conversionType': 'direct', 'conversionSymbol': ''}, {'time': 1557964800, 'high': 8352.25, 'low': 6668.67, 'open': 8183.83, 'volumefrom': 549265.2, 'volumeto': 4232317700.15, 'close': 7626.89, 'conversionType': 'direct', 'conversionSymbol': ''}, {'time': 1558569600, 'high': 8931.53, 'low': 7478.74, 'open': 7626.89, 'volumefrom': 324862.83, 'volumeto': 2711059953.13, 'close': 8664.56, 'conversionType': 'direct', 'conversionSymbol': ''}, {'time': 1559174400, 'high': 9065.89, 'low': 7463.94, 'open': 8664.56, 'volumefrom': 424533.28, 'volumeto': 3500241739.7, 'close': 7791.29, 'conversionType': 'direct', 'conversionSymbol': ''}, {'time': 1559779200, 'high': 8250, 'low': 7467.52, 'open': 7791.29, 'volumefrom': 277740.05, 'volumeto': 2191151232.77, 'close': 8174.14, 'conversionType': 'direct', 'conversionSymbol': ''}, {'time': 1560384000, 'high': 9468.85, 'low': 8053.65, 'open': 8174.14, 'volumefrom': 360677.43, 'volumeto': 3212764529.48, 'close': 9280.54, 'conversionType': 'direct', 'conversionSymbol': ''}, {'time': 1560988800, 'high': 13826.76, 'low': 9219.81, 'open': 9280.54, 'volumefrom': 643541.1, 'volumeto': 7254749576.33, 'close': 12913.28, 'conversionType': 'direct', 'conversionSymbol': ''}, {'time': 1561593600, 'high': 13314.05, 'low': 9678.1, 'open': 12913.28, 'volumefrom': 838198.25, 'volumeto': 9417381400.98, 'close': 11981.61, 'conversionType': 'direct', 'conversionSymbol': ''}, {'time': 1562198400, 'high': 13183.73, 'low': 10787.94, 'open': 11981.61, 'volumefrom': 490205.02, 'volumeto': 5844473306.57, 'close': 12099.12, 'conversionType': 'direct', 'conversionSymbol': ''}, {'time': 1562803200, 'high': 12099.91, 'low': 9086.51, 'open': 12099.12, 'volumefrom': 601734.74, 'volumeto': 6386478416.6, 'close': 9696.15, 'conversionType': 'direct', 'conversionSymbol': ''}, {'time': 1563408000, 'high': 11094.32, 'low': 9292.61, 'open': 9696.15, 'volumefrom': 418663.2, 'volumeto': 4291820629.26, 'close': 9772.14, 'conversionType': 'direct', 'conversionSymbol': ''}, {'time': 1564012800, 'high': 10202.95, 'low': 9135.64, 'open': 9772.14, 'volumefrom': 255961.44, 'volumeto': 2488831195.09, 'close': 10089.25, 'conversionType': 'direct', 'conversionSymbol': ''}, {'time': 1564617600, 'high': 12316.85, 'low': 9890.49, 'open': 10089.25, 'volumefrom': 387953.6, 'volumeto': 4360131989.72, 'close': 11974.28, 'conversionType': 'direct', 'conversionSymbol': ''}, {'time': 1565222400, 'high': 12042.87, 'low': 9924.58, 'open': 11974.28, 'volumefrom': 289756.4, 'volumeto': 3256938276.65, 'close': 10031.89, 'conversionType': 'direct', 'conversionSymbol': ''}, {'time': 1565827200, 'high': 10956.06, 'low': 9497.12, 'open': 10031.89, 'volumefrom': 321155.45, 'volumeto': 3295425331.47, 'close': 10131.67, 'conversionType': 'direct', 'conversionSymbol': ''}, {'time': 1566432000, 'high': 10626.93, 'low': 9600.83, 'open': 10131.67, 'volumefrom': 241009.55, 'volumeto': 2442502882.4, 'close': 9722.83, 'conversionType': 'direct', 'conversionSymbol': ''}, {'time': 1567036800, 'high': 10827.14, 'low': 9344.69, 'open': 9722.83, 'volumefrom': 238401.63, 'volumeto': 2397223268.32, 'close': 10585.2, 'conversionType': 'direct', 'conversionSymbol': ''}, {'time': 1567641600, 'high': 10938.39, 'low': 9874.13, 'open': 10585.2, 'volumefrom': 203652.67, 'volumeto': 2117902750.37, 'close': 10165.01, 'conversionType': 'direct', 'conversionSymbol': ''}, {'time': 1568246400, 'high': 10591.45, 'low': 9855.34, 'open': 10165.01, 'volumefrom': 149218.35, 'volumeto': 1533980013.9, 'close': 10163.38, 'conversionType': 'direct', 'conversionSymbol': ''}, {'time': 1568851200, 'high': 10368.46, 'low': 8107.01, 'open': 10163.38, 'volumefrom': 332107.66, 'volumeto': 3072171146.84, 'close': 8446.97, 'conversionType': 'direct', 'conversionSymbol': ''}, {'time': 1569456000, 'high': 8537.6, 'low': 7736.96, 'open': 8446.97, 'volumefrom': 304200.83, 'volumeto': 2481860772.91, 'close': 8391.52, 'conversionType': 'direct', 'conversionSymbol': ''}, {'time': 1570060800, 'high': 8697.56, 'low': 7798.09, 'open': 8391.52, 'volumefrom': 211913.53, 'volumeto': 1739283889.26, 'close': 8593.16, 'conversionType': 'direct', 'conversionSymbol': ''}, {'time': 1570665600, 'high': 8834.11, 'low': 7945.77, 'open': 8593.16, 'volumefrom': 175537.51, 'volumeto': 1465016969.47, 'close': 8014.39, 'conversionType': 'direct', 'conversionSymbol': ''}, {'time': 1571270400, 'high': 8359.52, 'low': 7336.06, 'open': 8014.39, 'volumefrom': 199960.46, 'volumeto': 1591613310.26, 'close': 7479.54, 'conversionType': 'direct', 'conversionSymbol': ''}, {'time': 1571875200, 'high': 10380.48, 'low': 7370.13, 'open': 7479.54, 'volumefrom': 457247.61, 'volumeto': 4158824116.37, 'close': 9169.86, 'conversionType': 'direct', 'conversionSymbol': ''}, {'time': 1572480000, 'high': 9578.74, 'low': 8972, 'open': 9169.86, 'volumefrom': 172808.4, 'volumeto': 1604059660.91, 'close': 9347.27, 'conversionType': 'direct', 'conversionSymbol': ''}, {'time': 1573084800, 'high': 9382.63, 'low': 8576.09, 'open': 9347.27, 'volumefrom': 158160.91, 'volumeto': 1406526786.6, 'close': 8773.82, 'conversionType': 'direct', 'conversionSymbol': ''}, {'time': 1573689600, 'high': 8811.04, 'low': 8016.54, 'open': 8773.82, 'volumefrom': 146488.75, 'volumeto': 1229567408.03, 'close': 8093.6, 'conversionType': 'direct', 'conversionSymbol': ''}, {'time': 1574294400, 'high': 8133.73, 'low': 6560.13, 'open': 8093.6, 'volumefrom': 388822.73, 'volumeto': 2811164670.9, 'close': 7531.5, 'conversionType': 'direct', 'conversionSymbol': ''}, {'time': 1574899200, 'high': 7872.17, 'low': 7110.76, 'open': 7531.5, 'volumefrom': 215316.75, 'volumeto': 1606942272.41, 'close': 7207.78, 'conversionType': 'direct', 'conversionSymbol': ''}, {'time': 1575504000, 'high': 7667.04, 'low': 7167.13, 'open': 7207.78, 'volumefrom': 166505.4, 'volumeto': 1233148056.63, 'close': 7212.01, 'conversionType': 'direct', 'conversionSymbol': ''}, {'time': 1576108800, 'high': 7442.26, 'low': 6450.69, 'open': 7212.01, 'volumefrom': 235542.23, 'volumeto': 1643377231.52, 'close': 7294.53, 'conversionType': 'direct', 'conversionSymbol': ''}, {'time': 1576713600, 'high': 7694.65, 'low': 7057.66, 'open': 7294.53, 'volumefrom': 185335.62, 'volumeto': 1353909025.03, 'close': 7202.72, 'conversionType': 'direct', 'conversionSymbol': ''}, {'time': 1577318400, 'high': 7540.65, 'low': 7061.61, 'open': 7202.72, 'volumefrom': 135844.51, 'volumeto': 989046879.3, 'close': 7189.94, 'conversionType': 'direct', 'conversionSymbol': ''}, {'time': 1577923200, 'high': 8458.65, 'low': 6882.62, 'open': 7189.94, 'volumefrom': 331629.03, 'volumeto': 2556684068.2, 'close': 8045.15, 'conversionType': 'direct', 'conversionSymbol': ''}, {'time': 1578528000, 'high': 8890.04, 'low': 7682.56, 'open': 8045.15, 'volumefrom': 306425.54, 'volumeto': 2543311651.26, 'close': 8813.21, 'conversionType': 'direct', 'conversionSymbol': ''}, {'time': 1579132800, 'high': 9177.39, 'low': 8479.9, 'open': 8813.21, 'volumefrom': 211848.81, 'volumeto': 1857725325.75, 'close': 8667.26, 'conversionType': 'direct', 'conversionSymbol': ''}, {'time': 1579737600, 'high': 9429.16, 'low': 8225.83, 'open': 8667.26, 'volumefrom': 229253.98, 'volumeto': 2012009891, 'close': 9286.18, 'conversionType': 'direct', 'conversionSymbol': ''}, {'time': 1580342400, 'high': 9750.28, 'low': 9089.52, 'open': 9286.18, 'volumefrom': 223154.45, 'volumeto': 2093074580.94, 'close': 9611.42, 'conversionType': 'direct', 'conversionSymbol': ''}, {'time': 1580947200, 'high': 10475.43, 'low': 9533.37, 'open': 9611.42, 'volumefrom': 260199.34, 'volumeto': 2596201511.02, 'close': 10347.93, 'conversionType': 'direct', 'conversionSymbol': ''}, {'time': 1581552000, 'high': 10500.54, 'low': 9340.17, 'open': 10347.93, 'volumefrom': 259048.05, 'volumeto': 2594034513.36, 'close': 9602.43, 'conversionType': 'direct', 'conversionSymbol': ''}, {'time': 1582156800, 'high': 10019.3, 'low': 8652.97, 'open': 9602.43, 'volumefrom': 236714.25, 'volumeto': 2241595304.88, 'close': 8793.5, 'conversionType': 'direct', 'conversionSymbol': ''}, {'time': 1582761600, 'high': 8983.78, 'low': 8443.57, 'open': 8793.5, 'volumefrom': 214731.34, 'volumeto': 1876959294.6, 'close': 8773.78, 'conversionType': 'direct', 'conversionSymbol': ''}, {'time': 1583366400, 'high': 9225.42, 'low': 7614.48, 'open': 8773.78, 'volumefrom': 326694.3, 'volumeto': 2700617711, 'close': 7945.36, 'conversionType': 'direct', 'conversionSymbol': ''}, {'time': 1583971200, 'high': 7984.16, 'low': 3948.92, 'open': 7945.36, 'volumefrom': 1227341.21, 'volumeto': 6667595984.33, 'close': 5413.06, 'conversionType': 'direct', 'conversionSymbol': ''}, {'time': 1584576000, 'high': 6980.29, 'low': 5268.33, 'open': 5413.06, 'volumefrom': 735519.4, 'volumeto': 4623316879.38, 'close': 6694.21, 'conversionType': 'direct', 'conversionSymbol': ''}, {'time': 1585180800, 'high': 6876.97, 'low': 5874.8, 'open': 6694.21, 'volumefrom': 376406.04, 'volumeto': 2405316800.8, 'close': 6663.63, 'conversionType': 'direct', 'conversionSymbol': ''}, {'time': 1585785600, 'high': 7462.51, 'low': 6585.75, 'open': 6663.63, 'volumefrom': 419466.79, 'volumeto': 2948851822.03, 'close': 7367.37, 'conversionType': 'direct', 'conversionSymbol': ''}, {'time': 1586390400, 'high': 7374.01, 'low': 6612.34, 'open': 7367.37, 'volumefrom': 332158.47, 'volumeto': 2300878953.72, 'close': 6629.54, 'conversionType': 'direct', 'conversionSymbol': ''}, {'time': 1586995200, 'high': 7304.35, 'low': 6487.08, 'open': 6629.54, 'volumefrom': 363083.03, 'volumeto': 2546039317.76, 'close': 7135.41, 'conversionType': 'direct', 'conversionSymbol': ''}, {'time': 1587600000, 'high': 8952.44, 'low': 7041.2, 'open': 7135.41, 'volumefrom': 441135.65, 'volumeto': 3464224030.68, 'close': 8784.96, 'conversionType': 'direct', 'conversionSymbol': ''}, {'time': 1588204800, 'high': 9460.77, 'low': 8416.64, 'open': 8784.96, 'volumefrom': 541225.06, 'volumeto': 4840122270.72, 'close': 9153.2, 'conversionType': 'direct', 'conversionSymbol': ''}, {'time': 1588809600, 'high': 10064.33, 'low': 8228.22, 'open': 9153.2, 'volumefrom': 690163.77, 'volumeto': 6323382273.98, 'close': 9317.44, 'conversionType': 'direct', 'conversionSymbol': ''}, {'time': 1589414400, 'high': 9943.74, 'low': 9149.13, 'open': 9317.44, 'volumefrom': 455691.63, 'volumeto': 4377535198.89, 'close': 9509.45, 'conversionType': 'direct', 'conversionSymbol': ''}, {'time': 1590019200, 'high': 9566.81, 'low': 8639.46, 'open': 9509.45, 'volumefrom': 326662.99, 'volumeto': 2954694849.98, 'close': 9204.62, 'conversionType': 'direct', 'conversionSymbol': ''}, {'time': 1590624000, 'high': 10359.02, 'low': 9112.3, 'open': 9204.62, 'volumefrom': 303898.66, 'volumeto': 2922155726.4, 'close': 9666.06, 'conversionType': 'direct', 'conversionSymbol': ''}, {'time': 1591228800, 'high': 9990.4, 'low': 9410.33, 'open': 9666.06, 'volumefrom': 258612.19, 'volumeto': 2511214234.58, 'close': 9891.84, 'conversionType': 'direct', 'conversionSymbol': ''}, {'time': 1591833600, 'high': 9970.77, 'low': 8909.5, 'open': 9891.84, 'volumefrom': 304746.37, 'volumeto': 2869854065.72, 'close': 9459.13, 'conversionType': 'direct', 'conversionSymbol': ''}, {'time': 1592438400, 'high': 9774.79, 'low': 9179.1, 'open': 9459.13, 'volumefrom': 210804.18, 'volumeto': 1989045255.32, 'close': 9292.94, 'conversionType': 'direct', 'conversionSymbol': ''}, {'time': 1593043200, 'high': 9335.65, 'low': 8867.34, 'open': 9292.94, 'volumefrom': 220087.82, 'volumeto': 2013874888.09, 'close': 9238.89, 'conversionType': 'direct', 'conversionSymbol': ''}, {'time': 1593648000, 'high': 9471.65, 'low': 8935.9, 'open': 9238.89, 'volumefrom': 193301.61, 'volumeto': 1778946391.91, 'close': 9439.2, 'conversionType': 'direct', 'conversionSymbol': ''}, {'time': 1594252800, 'high': 9441.67, 'low': 9109.7, 'open': 9439.2, 'volumefrom': 157988.13, 'volumeto': 1460655758.72, 'close': 9193.22, 'conversionType': 'direct', 'conversionSymbol': ''}, {'time': 1594857600, 'high': 9551.87, 'low': 9029.17, 'open': 9193.22, 'volumefrom': 156370.31, 'volumeto': 1460010845.12, 'close': 9537.24, 'conversionType': 'direct', 'conversionSymbol': ''}, {'time': 1595462400, 'high': 11397.48, 'low': 9458.25, 'open': 9537.24, 'volumefrom': 419911.14, 'volumeto': 4380359615.16, 'close': 11112.04, 'conversionType': 'direct', 'conversionSymbol': ''}, {'time': 1596067200, 'high': 12106.89, 'low': 10694.22, 'open': 11112.04, 'volumefrom': 352277.35, 'volumeto': 3997299531.41, 'close': 11752.05, 'conversionType': 'direct', 'conversionSymbol': ''}, {'time': 1596672000, 'high': 12074.31, 'low': 11138.6, 'open': 11752.05, 'volumefrom': 305246.91, 'volumeto': 3564377292.93, 'close': 11570.19, 'conversionType': 'direct', 'conversionSymbol': ''}, {'time': 1597276800, 'high': 12474.73, 'low': 11284.57, 'open': 11570.19, 'volumefrom': 288640.6, 'volumeto': 3431903942.18, 'close': 11760.37, 'conversionType': 'direct', 'conversionSymbol': ''}, {'time': 1597881600, 'high': 11888.72, 'low': 11130.36, 'open': 11760.37, 'volumefrom': 306825.55, 'volumeto': 3569206971.23, 'close': 11466.89, 'conversionType': 'direct', 'conversionSymbol': ''}, {'time': 1598486400, 'high': 12062.06, 'low': 11135.52, 'open': 11466.89, 'volumefrom': 229750.68, 'volumeto': 2659728679.63, 'close': 11397.9, 'conversionType': 'direct', 'conversionSymbol': ''}, {'time': 1599091200, 'high': 11469.2, 'low': 9855.68, 'open': 11397.9, 'volumefrom': 357013.65, 'volumeto': 3694589033.35, 'close': 10228.85, 'conversionType': 'direct', 'conversionSymbol': ''}, {'time': 1599696000, 'high': 11094.7, 'low': 10215.49, 'open': 10228.85, 'volumefrom': 218440.85, 'volumeto': 2303792176.75, 'close': 10957.1, 'conversionType': 'direct', 'conversionSymbol': ''}, {'time': 1600300800, 'high': 11173.88, 'low': 10166.62, 'open': 10957.1, 'volumefrom': 189389.82, 'volumeto': 2026011830.3, 'close': 10238.09, 'conversionType': 'direct', 'conversionSymbol': ''}, {'time': 1600905600, 'high': 10951.6, 'low': 10213.75, 'open': 10238.09, 'volumefrom': 183472.35, 'volumeto': 1964914714.56, 'close': 10779.42, 'conversionType': 'direct', 'conversionSymbol': ''}, {'time': 1601510400, 'high': 10926.47, 'low': 10388.07, 'open': 10779.42, 'volumefrom': 168576.14, 'volumeto': 1793906105.04, 'close': 10672.67, 'conversionType': 'direct', 'conversionSymbol': ''}, {'time': 1602115200, 'high': 11725.28, 'low': 10541.2, 'open': 10672.67, 'volumefrom': 213916.59, 'volumeto': 2404296202.26, 'close': 11429.3, 'conversionType': 'direct', 'conversionSymbol': ''}, {'time': 1602720000, 'high': 13236.39, 'low': 11224.89, 'open': 11429.3, 'volumefrom': 274583.77, 'volumeto': 3283000179.24, 'close': 12813.11, 'conversionType': 'direct', 'conversionSymbol': ''}, {'time': 1603324800, 'high': 13855.57, 'low': 12700.74, 'open': 12813.11, 'volumefrom': 251338.47, 'volumeto': 3297477349.6, 'close': 13285.97, 'conversionType': 'direct', 'conversionSymbol': ''}, {'time': 1603929600, 'high': 14258.9, 'low': 12985.56, 'open': 13285.97, 'volumefrom': 248124.04, 'volumeto': 3375097367.44, 'close': 14157.73, 'conversionType': 'direct', 'conversionSymbol': ''}, {'time': 1604534400, 'high': 15983.03, 'low': 14114.37, 'open': 14157.73, 'volumefrom': 222040.01, 'volumeto': 3399929378.64, 'close': 15707.08, 'conversionType': 'direct', 'conversionSymbol': ''}, {'time': 1605139200, 'high': 18466.1, 'low': 15476.25, 'open': 15707.08, 'volumefrom': 340752.2, 'volumeto': 5708401776.74, 'close': 17786.27, 'conversionType': 'direct', 'conversionSymbol': ''}, {'time': 1605744000, 'high': 19488.81, 'low': 17365.08, 'open': 17786.27, 'volumefrom': 363640.92, 'volumeto': 6749085110.89, 'close': 18725.76, 'conversionType': 'direct', 'conversionSymbol': ''}, {'time': 1606348800, 'high': 19911.79, 'low': 16270.37, 'open': 18725.76, 'volumefrom': 469401.34, 'volumeto': 8490861121.98, 'close': 19226.19, 'conversionType': 'direct', 'conversionSymbol': ''}, {'time': 1606953600, 'high': 19608.49, 'low': 17669.15, 'open': 19226.19, 'volumefrom': 251681.76, 'volumeto': 4746843904.49, 'close': 18549.92, 'conversionType': 'direct', 'conversionSymbol': ''}, {'time': 1607558400, 'high': 21527.36, 'low': 17598.13, 'open': 18549.92, 'volumefrom': 301254.22, 'volumeto': 5796904887.39, 'close': 21352.13, 'conversionType': 'direct', 'conversionSymbol': ''}, {'time': 1608163200, 'high': 24252.16, 'low': 21240.41, 'open': 21352.13, 'volumefrom': 488816.54, 'volumeto': 11291816792.81, 'close': 23239.5, 'conversionType': 'direct', 'conversionSymbol': ''}, {'time': 1608768000, 'high': 28990.2, 'low': 22716.45, 'open': 23239.5, 'volumefrom': 421692.46, 'volumeto': 11073960863.46, 'close': 28889.61, 'conversionType': 'direct', 'conversionSymbol': ''}, {'time': 1609372800, 'high': 36973.76, 'low': 27957.13, 'open': 28889.61, 'volumefrom': 657318.38, 'volumeto': 21023429478.29, 'close': 36849.86, 'conversionType': 'direct', 'conversionSymbol': ''}, {'time': 1609977600, 'high': 41964.96, 'low': 30308.4, 'open': 36849.86, 'volumefrom': 848515.33, 'volumeto': 30983093247.9, 'close': 37380.85, 'conversionType': 'direct', 'conversionSymbol': ''}, {'time': 1610582400, 'high': 40093.43, 'low': 33519.59, 'open': 37380.85, 'volumefrom': 427403.5, 'volumeto': 15644694256.95, 'close': 35501.38, 'conversionType': 'direct', 'conversionSymbol': ''}, {'time': 1611187200, 'high': 35619.6, 'low': 28817.3, 'open': 35501.38, 'volumefrom': 529817.96, 'volumeto': 16877048714.89, 'close': 30423.05, 'conversionType': 'direct', 'conversionSymbol': ''}, {'time': 1611792000, 'high': 38631.5, 'low': 29905.53, 'open': 30423.05, 'volumefrom': 491608, 'volumeto': 16983907605.03, 'close': 37677.34, 'conversionType': 'direct', 'conversionSymbol': ''}, {'time': 1612396800, 'high': 48209.59, 'low': 36199.19, 'open': 37677.34, 'volumefrom': 549485.63, 'volumeto': 23073104497.87, 'close': 44854.95, 'conversionType': 'direct', 'conversionSymbol': ''}, {'time': 1613001600, 'high': 52622.68, 'low': 44032.66, 'open': 44854.95, 'volumefrom': 388825.92, 'volumeto': 18785403418.67, 'close': 52154.91, 'conversionType': 'direct', 'conversionSymbol': ''}, {'time': 1613606400, 'high': 58348.75, 'low': 44983.39, 'open': 52154.91, 'volumefrom': 573247.97, 'volumeto': 29748532673.03, 'close': 49738.17, 'conversionType': 'direct', 'conversionSymbol': ''}, {'time': 1614211200, 'high': 52625.39, 'low': 43061.92, 'open': 49738.17, 'volumefrom': 425399.46, 'volumeto': 20322940631.17, 'close': 50392.55, 'conversionType': 'direct', 'conversionSymbol': ''}, {'time': 1614816000, 'high': 57396.59, 'low': 46311.43, 'open': 50392.55, 'volumefrom': 352381.27, 'volumeto': 18046481405.71, 'close': 55893.31, 'conversionType': 'direct', 'conversionSymbol': ''}, {'time': 1615420800, 'high': 61749.15, 'low': 53269.13, 'open': 55893.31, 'volumefrom': 405972.68, 'volumeto': 23196400249.06, 'close': 58909, 'conversionType': 'direct', 'conversionSymbol': ''}, {'time': 1616025600, 'high': 60077.79, 'low': 51685.15, 'open': 58909, 'volumefrom': 316880.4, 'volumeto': 17953653089.89, 'close': 52303.02, 'conversionType': 'direct', 'conversionSymbol': ''}, {'time': 1616630400, 'high': 59818.5, 'low': 50406.31, 'open': 52303.02, 'volumefrom': 300837.88, 'volumeto': 16681363031.64, 'close': 58793.8, 'conversionType': 'direct', 'conversionSymbol': ''}, {'time': 1617235200, 'high': 58793.8, 'low': 55649.03, 'open': 58793.8, 'volumefrom': 27750.35, 'volumeto': 1583830727.87, 'close': 56205.05, 'conversionType': 'direct', 'conversionSymbol': ''}]\n"
     ]
    }
   ],
   "source": [
    "try:\n",
    "  response = session.get(url+req, params=parameters)\n",
    "  data = json.loads(response.text)\n",
    "  print(data['Data']['Data'])\n",
    "except (ConnectionError, Timeout, TooManyRedirects) as e:\n",
    "  print(e)\n"
   ]
  },
  {
   "cell_type": "code",
   "execution_count": 12,
   "metadata": {},
   "outputs": [],
   "source": [
    "import pandas as pd\n",
    "df = pd.DataFrame()"
   ]
  },
  {
   "cell_type": "code",
   "execution_count": 13,
   "metadata": {},
   "outputs": [],
   "source": [
    "from datetime import datetime\n",
    "for row in data['Data']['Data']:\n",
    "    df = df.append({\n",
    "        'date': datetime.fromtimestamp(row['time']).strftime('%Y-%m-%d'),\n",
    "        'price': row['close']\n",
    "    }, ignore_index = True)"
   ]
  },
  {
   "cell_type": "code",
   "execution_count": 14,
   "metadata": {},
   "outputs": [
    {
     "data": {
      "text/html": [
       "<div>\n",
       "<style scoped>\n",
       "    .dataframe tbody tr th:only-of-type {\n",
       "        vertical-align: middle;\n",
       "    }\n",
       "\n",
       "    .dataframe tbody tr th {\n",
       "        vertical-align: top;\n",
       "    }\n",
       "\n",
       "    .dataframe thead th {\n",
       "        text-align: right;\n",
       "    }\n",
       "</style>\n",
       "<table border=\"1\" class=\"dataframe\">\n",
       "  <thead>\n",
       "    <tr style=\"text-align: right;\">\n",
       "      <th></th>\n",
       "      <th>date</th>\n",
       "      <th>price</th>\n",
       "    </tr>\n",
       "  </thead>\n",
       "  <tbody>\n",
       "    <tr>\n",
       "      <th>0</th>\n",
       "      <td>2019-05-02</td>\n",
       "      <td>5998.71</td>\n",
       "    </tr>\n",
       "    <tr>\n",
       "      <th>1</th>\n",
       "      <td>2019-05-09</td>\n",
       "      <td>8183.83</td>\n",
       "    </tr>\n",
       "    <tr>\n",
       "      <th>2</th>\n",
       "      <td>2019-05-16</td>\n",
       "      <td>7626.89</td>\n",
       "    </tr>\n",
       "    <tr>\n",
       "      <th>3</th>\n",
       "      <td>2019-05-23</td>\n",
       "      <td>8664.56</td>\n",
       "    </tr>\n",
       "    <tr>\n",
       "      <th>4</th>\n",
       "      <td>2019-05-30</td>\n",
       "      <td>7791.29</td>\n",
       "    </tr>\n",
       "    <tr>\n",
       "      <th>...</th>\n",
       "      <td>...</td>\n",
       "      <td>...</td>\n",
       "    </tr>\n",
       "    <tr>\n",
       "      <th>96</th>\n",
       "      <td>2021-03-04</td>\n",
       "      <td>55893.31</td>\n",
       "    </tr>\n",
       "    <tr>\n",
       "      <th>97</th>\n",
       "      <td>2021-03-11</td>\n",
       "      <td>58909.00</td>\n",
       "    </tr>\n",
       "    <tr>\n",
       "      <th>98</th>\n",
       "      <td>2021-03-18</td>\n",
       "      <td>52303.02</td>\n",
       "    </tr>\n",
       "    <tr>\n",
       "      <th>99</th>\n",
       "      <td>2021-03-25</td>\n",
       "      <td>58793.80</td>\n",
       "    </tr>\n",
       "    <tr>\n",
       "      <th>100</th>\n",
       "      <td>2021-04-01</td>\n",
       "      <td>56205.05</td>\n",
       "    </tr>\n",
       "  </tbody>\n",
       "</table>\n",
       "<p>101 rows × 2 columns</p>\n",
       "</div>"
      ],
      "text/plain": [
       "           date     price\n",
       "0    2019-05-02   5998.71\n",
       "1    2019-05-09   8183.83\n",
       "2    2019-05-16   7626.89\n",
       "3    2019-05-23   8664.56\n",
       "4    2019-05-30   7791.29\n",
       "..          ...       ...\n",
       "96   2021-03-04  55893.31\n",
       "97   2021-03-11  58909.00\n",
       "98   2021-03-18  52303.02\n",
       "99   2021-03-25  58793.80\n",
       "100  2021-04-01  56205.05\n",
       "\n",
       "[101 rows x 2 columns]"
      ]
     },
     "execution_count": 14,
     "metadata": {},
     "output_type": "execute_result"
    }
   ],
   "source": [
    "df"
   ]
  },
  {
   "cell_type": "code",
   "execution_count": 15,
   "metadata": {},
   "outputs": [
    {
     "name": "stdout",
     "output_type": "stream",
     "text": [
      "[['2019-05-02' 5998.71]\n",
      " ['2019-05-09' 8183.83]\n",
      " ['2019-05-16' 7626.89]\n",
      " ['2019-05-23' 8664.56]\n",
      " ['2019-05-30' 7791.29]\n",
      " ['2019-06-06' 8174.14]\n",
      " ['2019-06-13' 9280.54]\n",
      " ['2019-06-20' 12913.28]\n",
      " ['2019-06-27' 11981.61]\n",
      " ['2019-07-04' 12099.12]\n",
      " ['2019-07-11' 9696.15]\n",
      " ['2019-07-18' 9772.14]\n",
      " ['2019-07-25' 10089.25]\n",
      " ['2019-08-01' 11974.28]\n",
      " ['2019-08-08' 10031.89]\n",
      " ['2019-08-15' 10131.67]\n",
      " ['2019-08-22' 9722.83]\n",
      " ['2019-08-29' 10585.2]\n",
      " ['2019-09-05' 10165.01]\n",
      " ['2019-09-12' 10163.38]\n",
      " ['2019-09-19' 8446.97]\n",
      " ['2019-09-26' 8391.52]\n",
      " ['2019-10-03' 8593.16]\n",
      " ['2019-10-10' 8014.39]\n",
      " ['2019-10-17' 7479.54]\n",
      " ['2019-10-24' 9169.86]\n",
      " ['2019-10-31' 9347.27]\n",
      " ['2019-11-07' 8773.82]\n",
      " ['2019-11-14' 8093.6]\n",
      " ['2019-11-21' 7531.5]\n",
      " ['2019-11-28' 7207.78]\n",
      " ['2019-12-05' 7212.01]\n",
      " ['2019-12-12' 7294.53]\n",
      " ['2019-12-19' 7202.72]\n",
      " ['2019-12-26' 7189.94]\n",
      " ['2020-01-02' 8045.15]\n",
      " ['2020-01-09' 8813.21]\n",
      " ['2020-01-16' 8667.26]\n",
      " ['2020-01-23' 9286.18]\n",
      " ['2020-01-30' 9611.42]\n",
      " ['2020-02-06' 10347.93]\n",
      " ['2020-02-13' 9602.43]\n",
      " ['2020-02-20' 8793.5]\n",
      " ['2020-02-27' 8773.78]\n",
      " ['2020-03-05' 7945.36]\n",
      " ['2020-03-12' 5413.06]\n",
      " ['2020-03-19' 6694.21]\n",
      " ['2020-03-26' 6663.63]\n",
      " ['2020-04-02' 7367.37]\n",
      " ['2020-04-09' 6629.54]\n",
      " ['2020-04-16' 7135.41]\n",
      " ['2020-04-23' 8784.96]\n",
      " ['2020-04-30' 9153.2]\n",
      " ['2020-05-07' 9317.44]\n",
      " ['2020-05-14' 9509.45]\n",
      " ['2020-05-21' 9204.62]\n",
      " ['2020-05-28' 9666.06]\n",
      " ['2020-06-04' 9891.84]\n",
      " ['2020-06-11' 9459.13]\n",
      " ['2020-06-18' 9292.94]\n",
      " ['2020-06-25' 9238.89]\n",
      " ['2020-07-02' 9439.2]\n",
      " ['2020-07-09' 9193.22]\n",
      " ['2020-07-16' 9537.24]\n",
      " ['2020-07-23' 11112.04]\n",
      " ['2020-07-30' 11752.05]\n",
      " ['2020-08-06' 11570.19]\n",
      " ['2020-08-13' 11760.37]\n",
      " ['2020-08-20' 11466.89]\n",
      " ['2020-08-27' 11397.9]\n",
      " ['2020-09-03' 10228.85]\n",
      " ['2020-09-10' 10957.1]\n",
      " ['2020-09-17' 10238.09]\n",
      " ['2020-09-24' 10779.42]\n",
      " ['2020-10-01' 10672.67]\n",
      " ['2020-10-08' 11429.3]\n",
      " ['2020-10-15' 12813.11]\n",
      " ['2020-10-22' 13285.97]\n",
      " ['2020-10-29' 14157.73]\n",
      " ['2020-11-05' 15707.08]\n",
      " ['2020-11-12' 17786.27]\n",
      " ['2020-11-19' 18725.76]\n",
      " ['2020-11-26' 19226.19]\n",
      " ['2020-12-03' 18549.92]\n",
      " ['2020-12-10' 21352.13]\n",
      " ['2020-12-17' 23239.5]\n",
      " ['2020-12-24' 28889.61]\n",
      " ['2020-12-31' 36849.86]\n",
      " ['2021-01-07' 37380.85]\n",
      " ['2021-01-14' 35501.38]\n",
      " ['2021-01-21' 30423.05]\n",
      " ['2021-01-28' 37677.34]\n",
      " ['2021-02-04' 44854.95]\n",
      " ['2021-02-11' 52154.91]\n",
      " ['2021-02-18' 49738.17]\n",
      " ['2021-02-25' 50392.55]\n",
      " ['2021-03-04' 55893.31]\n",
      " ['2021-03-11' 58909.0]\n",
      " ['2021-03-18' 52303.02]\n",
      " ['2021-03-25' 58793.8]\n",
      " ['2021-04-01' 56205.05]]\n"
     ]
    },
    {
     "ename": "IndexError",
     "evalue": "only integers, slices (`:`), ellipsis (`...`), numpy.newaxis (`None`) and integer or boolean arrays are valid indices",
     "output_type": "error",
     "traceback": [
      "\u001B[1;31m---------------------------------------------------------------------------\u001B[0m",
      "\u001B[1;31mIndexError\u001B[0m                                Traceback (most recent call last)",
      "\u001B[1;32m<ipython-input-15-f1879d7ea4a7>\u001B[0m in \u001B[0;36m<module>\u001B[1;34m\u001B[0m\n\u001B[0;32m     20\u001B[0m \u001B[0max\u001B[0m\u001B[1;33m.\u001B[0m\u001B[0mxaxis\u001B[0m\u001B[1;33m.\u001B[0m\u001B[0mset_minor_locator\u001B[0m\u001B[1;33m(\u001B[0m\u001B[0mmonths\u001B[0m\u001B[1;33m)\u001B[0m\u001B[1;33m\u001B[0m\u001B[1;33m\u001B[0m\u001B[0m\n\u001B[0;32m     21\u001B[0m \u001B[1;33m\u001B[0m\u001B[0m\n\u001B[1;32m---> 22\u001B[1;33m \u001B[0mdatemin\u001B[0m \u001B[1;33m=\u001B[0m \u001B[0mnp\u001B[0m\u001B[1;33m.\u001B[0m\u001B[0mdatetime64\u001B[0m\u001B[1;33m(\u001B[0m\u001B[0mdata\u001B[0m\u001B[1;33m[\u001B[0m\u001B[1;34m'date'\u001B[0m\u001B[1;33m]\u001B[0m\u001B[1;33m[\u001B[0m\u001B[1;36m0\u001B[0m\u001B[1;33m]\u001B[0m\u001B[1;33m,\u001B[0m \u001B[1;34m'Y'\u001B[0m\u001B[1;33m)\u001B[0m\u001B[1;33m\u001B[0m\u001B[1;33m\u001B[0m\u001B[0m\n\u001B[0m\u001B[0;32m     23\u001B[0m \u001B[0mdatemax\u001B[0m \u001B[1;33m=\u001B[0m \u001B[0mnp\u001B[0m\u001B[1;33m.\u001B[0m\u001B[0mdatetime64\u001B[0m\u001B[1;33m(\u001B[0m\u001B[0mdata\u001B[0m\u001B[1;33m[\u001B[0m\u001B[1;34m'date'\u001B[0m\u001B[1;33m]\u001B[0m\u001B[1;33m[\u001B[0m\u001B[1;33m-\u001B[0m\u001B[1;36m1\u001B[0m\u001B[1;33m]\u001B[0m\u001B[1;33m,\u001B[0m \u001B[1;34m'Y'\u001B[0m\u001B[1;33m)\u001B[0m \u001B[1;33m+\u001B[0m \u001B[0mnp\u001B[0m\u001B[1;33m.\u001B[0m\u001B[0mtimedelta64\u001B[0m\u001B[1;33m(\u001B[0m\u001B[1;36m1\u001B[0m\u001B[1;33m,\u001B[0m \u001B[1;34m'Y'\u001B[0m\u001B[1;33m)\u001B[0m\u001B[1;33m\u001B[0m\u001B[1;33m\u001B[0m\u001B[0m\n\u001B[0;32m     24\u001B[0m \u001B[0max\u001B[0m\u001B[1;33m.\u001B[0m\u001B[0mset_xlim\u001B[0m\u001B[1;33m(\u001B[0m\u001B[0mdatemin\u001B[0m\u001B[1;33m,\u001B[0m \u001B[0mdatemax\u001B[0m\u001B[1;33m)\u001B[0m\u001B[1;33m\u001B[0m\u001B[1;33m\u001B[0m\u001B[0m\n",
      "\u001B[1;31mIndexError\u001B[0m: only integers, slices (`:`), ellipsis (`...`), numpy.newaxis (`None`) and integer or boolean arrays are valid indices"
     ]
    },
    {
     "data": {
      "image/png": "[encoded data removed]",
      "text/plain": [
       "<Figure size 432x288 with 1 Axes>"
      ]
     },
     "metadata": {
      "needs_background": "light"
     },
     "output_type": "display_data"
    }
   ],
   "source": [
    "import matplotlib.pyplot as plt\n",
    "import matplotlib.dates as mdates\n",
    "import numpy as np\n",
    "x = df['date']\n",
    "y = df['price']\n",
    "\n",
    "data = df.to_numpy()\n",
    "\n",
    "print(data)\n",
    "\n",
    "years = mdates.YearLocator()   # every year\n",
    "months = mdates.MonthLocator()  # every month\n",
    "years_fmt = mdates.DateFormatter('%Y')\n",
    "\n",
    "fig, ax = plt.subplots()\n",
    "ax.plot('date', 'price', data=df)\n",
    "\n",
    "ax.xaxis.set_major_locator(years)\n",
    "ax.xaxis.set_major_formatter(years_fmt)\n",
    "ax.xaxis.set_minor_locator(months)\n",
    "\n",
    "datemin = np.datetime64(data['date'][0], 'Y')\n",
    "datemax = np.datetime64(data['date'][-1], 'Y') + np.timedelta64(1, 'Y')\n",
    "ax.set_xlim(datemin, datemax)\n",
    "\n",
    "# format the coords message box\n",
    "ax.format_xdata = mdates.DateFormatter('%Y-%m-%d')\n",
    "ax.format_ydata = lambda x: '$%1.2f' % x  # format the price.\n",
    "ax.grid(True)\n",
    "\n",
    "# rotates and right aligns the x labels, and moves the bottom of the\n",
    "# axes up to make room for them\n",
    "fig.autofmt_xdate()\n",
    "\n",
    "plt.show()"
   ]
  },
  {
   "cell_type": "code",
   "execution_count": 25,
   "metadata": {},
   "outputs": [],
   "source": [
    "from StockHistory import StockHistory\n",
    "sh = StockHistory()\n",
    "history = sh.load_data(\"ETH\", 1, \"PLN\", \"365\")"
   ]
  },
  {
   "cell_type": "code",
   "execution_count": 28,
   "outputs": [
    {
     "data": {
      "text/plain": "<AxesSubplot:>"
     },
     "execution_count": 28,
     "metadata": {},
     "output_type": "execute_result"
    },
    {
     "data": {
      "text/plain": "<Figure size 432x288 with 1 Axes>",
      "image/png": "[encoded data removed]"
     },
     "metadata": {
      "needs_background": "light"
     },
     "output_type": "display_data"
    }
   ],
   "source": [
    "history.plot()\n"
   ],
   "metadata": {
    "collapsed": false,
    "pycharm": {
     "name": "#%%\n"
    }
   }
  }
 ],
 "metadata": {
  "kernelspec": {
   "display_name": "Python 3",
   "language": "python",
   "name": "python3"
  },
  "language_info": {
   "codemirror_mode": {
    "name": "ipython",
    "version": 3
   },
   "file_extension": ".py",
   "mimetype": "text/x-python",
   "name": "python",
   "nbconvert_exporter": "python",
   "pygments_lexer": "ipython3",
   "version": "3.9.1"
  }
 },
 "nbformat": 4,
 "nbformat_minor": 1
}